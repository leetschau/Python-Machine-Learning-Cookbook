{
 "cells": [
  {
   "cell_type": "code",
   "execution_count": 1,
   "metadata": {
    "collapsed": true
   },
   "outputs": [],
   "source": [
    "import numpy as np\n",
    "import pandas as pd\n",
    "import matplotlib.pyplot as plt\n",
    "from convert_to_timeseries import convert_data_to_timeseries"
   ]
  },
  {
   "cell_type": "code",
   "execution_count": 2,
   "metadata": {
    "collapsed": true
   },
   "outputs": [],
   "source": [
    "input_file = 'data_timeseries.txt'\n",
    "data1 = convert_data_to_timeseries(input_file, 2)\n",
    "data2 = convert_data_to_timeseries(input_file, 3)\n",
    "dataframe = pd.DataFrame({'first': data1, 'second': data2})"
   ]
  },
  {
   "cell_type": "code",
   "execution_count": 3,
   "metadata": {},
   "outputs": [
    {
     "name": "stdout",
     "output_type": "stream",
     "text": [
      "Maximum:\n",
      " first     99.82\n",
      "second    99.97\n",
      "dtype: float64\n",
      "Mininum:\n",
      " first     0.07\n",
      "second    0.00\n",
      "dtype: float64\n"
     ]
    }
   ],
   "source": [
    "print('Maximum:\\n', dataframe.max())\n",
    "print('Mininum:\\n', dataframe.min())"
   ]
  },
  {
   "cell_type": "code",
   "execution_count": 4,
   "metadata": {},
   "outputs": [
    {
     "name": "stdout",
     "output_type": "stream",
     "text": [
      "Mean:\n",
      " first     51.264529\n",
      "second    49.695417\n",
      "dtype: float64\n",
      "Mean column-wise:\n",
      " first     51.264529\n",
      "second    49.695417\n",
      "dtype: float64\n"
     ]
    }
   ],
   "source": [
    "print('Mean:\\n', dataframe.mean())\n",
    "print('Mean column-wise:\\n', dataframe.mean(0)[:10])"
   ]
  },
  {
   "cell_type": "code",
   "execution_count": 5,
   "metadata": {},
   "outputs": [
    {
     "name": "stdout",
     "output_type": "stream",
     "text": [
      "dataframe (head):\n",
      "             first  second\n",
      "1940-01-31  98.96   64.81\n",
      "1940-02-29  10.89   71.38\n",
      "1940-03-31   6.22   14.39\n",
      "1940-04-30  67.85   99.24\n",
      "1940-05-31  31.70    5.09\n",
      "1940-06-30  15.63   17.76\n",
      "1940-07-31  76.17   97.58\n",
      "1940-08-31  81.10    3.41\n",
      "1940-09-30  87.24   24.52\n",
      "1940-10-31  37.49   31.95\n",
      "Mean row-wise:\n",
      " 1940-01-31    81.885\n",
      "1940-02-29    41.135\n",
      "1940-03-31    10.305\n",
      "1940-04-30    83.545\n",
      "1940-05-31    18.395\n",
      "1940-06-30    16.695\n",
      "1940-07-31    86.875\n",
      "1940-08-31    42.255\n",
      "1940-09-30    55.880\n",
      "1940-10-31    34.720\n",
      "Freq: M, dtype: float64\n"
     ]
    }
   ],
   "source": [
    "print('dataframe (head):\\n', dataframe[:10])\n",
    "print('Mean row-wise:\\n', dataframe.mean(1)[:10])"
   ]
  },
  {
   "cell_type": "code",
   "execution_count": 6,
   "metadata": {},
   "outputs": [
    {
     "data": {
      "text/plain": [
       "<matplotlib.axes._subplots.AxesSubplot at 0x7fc9fc4acb70>"
      ]
     },
     "execution_count": 6,
     "metadata": {},
     "output_type": "execute_result"
    }
   ],
   "source": [
    "dataframe.rolling(window=24, center=False).mean().plot()"
   ]
  },
  {
   "cell_type": "code",
   "execution_count": 7,
   "metadata": {},
   "outputs": [
    {
     "name": "stdout",
     "output_type": "stream",
     "text": [
      "Correlation coefficients:\n",
      "            first    second\n",
      "first   1.000000  0.077607\n",
      "second  0.077607  1.000000\n"
     ]
    }
   ],
   "source": [
    "print('Correlation coefficients:\\n', dataframe.corr())"
   ]
  },
  {
   "cell_type": "code",
   "execution_count": 10,
   "metadata": {},
   "outputs": [
    {
     "data": {
      "text/plain": [
       "<matplotlib.axes._subplots.AxesSubplot at 0x7fc9f44aee10>"
      ]
     },
     "execution_count": 10,
     "metadata": {},
     "output_type": "execute_result"
    }
   ],
   "source": [
    "plt.figure()\n",
    "dataframe['first'].rolling(window=60).corr(dataframe['second']).plot()"
   ]
  },
  {
   "cell_type": "code",
   "execution_count": 11,
   "metadata": {},
   "outputs": [
    {
     "data": {
      "image/png": "[encoded data removed]",
      "text/plain": [
       "<matplotlib.figure.Figure at 0x7fc9f45d3588>"
      ]
     },
     "metadata": {},
     "output_type": "display_data"
    }
   ],
   "source": [
    "plt.show()"
   ]
  }
 ],
 "metadata": {
  "kernelspec": {
   "display_name": "Python 3",
   "language": "python",
   "name": "python3"
  },
  "language_info": {
   "codemirror_mode": {
    "name": "ipython",
    "version": 3
   },
   "file_extension": ".py",
   "mimetype": "text/x-python",
   "name": "python",
   "nbconvert_exporter": "python",
   "pygments_lexer": "ipython3",
   "version": "3.6.3"
  }
 },
 "nbformat": 4,
 "nbformat_minor": 2
}
